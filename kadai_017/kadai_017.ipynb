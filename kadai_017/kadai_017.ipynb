{
  "nbformat": 4,
  "nbformat_minor": 0,
  "metadata": {
    "colab": {
      "provenance": []
    },
    "kernelspec": {
      "name": "python3",
      "display_name": "Python 3"
    },
    "language_info": {
      "name": "python"
    }
  },
  "cells": [
    {
      "cell_type": "code",
      "execution_count": 12,
      "metadata": {
        "id": "z1DKBDu1EZPJ",
        "colab": {
          "base_uri": "https://localhost:8080/"
        },
        "outputId": "68504d99-003b-4caa-cedf-a27a5626684b"
      },
      "outputs": [
        {
          "output_type": "stream",
          "name": "stdout",
          "text": [
            "コナン は子供です。\n",
            "ドラえもん は大人です。\n",
            "ピカチュウ は大人です。\n",
            "伊右衛門 は子供です。\n"
          ]
        }
      ],
      "source": [
        "\n",
        "class Human:\n",
        "  def __init__(self,name,age):\n",
        "    self.name=name\n",
        "    self.age=age\n",
        "\n",
        "  def check_adult(self):\n",
        "    if self.age >= 20:\n",
        "      print(self.name,\"は大人です。\")\n",
        "    else:\n",
        "      print(self.name,\"は子供です。\")\n",
        "\n",
        "mydict = {\n",
        "    \"no1\" : Human(\"コナン\",12),\n",
        "    \"no2\" : Human(\"ドラえもん\",300),\n",
        "    \"no3\" : Human(\"ピカチュウ\",1000),\n",
        "    \"no4\" : Human(\"伊右衛門\",18)\n",
        "}\n",
        "\n",
        "for key in mydict:\n",
        "  mydict[key].check_adult()\n",
        "\n"
      ]
    },
    {
      "cell_type": "code",
      "source": [
        "\n"
      ],
      "metadata": {
        "id": "ERRKcfTwMCid"
      },
      "execution_count": 12,
      "outputs": []
    }
  ]
}