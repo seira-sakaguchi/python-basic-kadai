{
  "nbformat": 4,
  "nbformat_minor": 0,
  "metadata": {
    "colab": {
      "provenance": []
    },
    "kernelspec": {
      "name": "python3",
      "display_name": "Python 3"
    },
    "language_info": {
      "name": "python"
    }
  },
  "cells": [
    {
      "cell_type": "code",
      "execution_count": 1,
      "metadata": {
        "id": "HSZbQSou6kbO",
        "outputId": "f9fe2197-b6b3-4d0d-a2c9-fd138ee31ba9",
        "colab": {
          "base_uri": "https://localhost:8080/"
        }
      },
      "outputs": [
        {
          "output_type": "stream",
          "name": "stdout",
          "text": [
            "名前: 山田\n",
            "年齢: 16\n"
          ]
        }
      ],
      "source": [
        "class Human:\n",
        "  def __init__(self,name,age):\n",
        "    self.name=name\n",
        "    self.age=age\n",
        "\n",
        "  def printinfo(self):\n",
        "    print(\"名前:\",self.name)\n",
        "    print(\"年齢:\",self.age)\n",
        "\n",
        "yamada=Human(\"山田\",16)\n",
        "yamada.printinfo()"
      ]
    }
  ]
}