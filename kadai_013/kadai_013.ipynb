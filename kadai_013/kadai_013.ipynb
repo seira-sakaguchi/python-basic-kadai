{
  "nbformat": 4,
  "nbformat_minor": 0,
  "metadata": {
    "colab": {
      "provenance": []
    },
    "kernelspec": {
      "name": "python3",
      "display_name": "Python 3"
    },
    "language_info": {
      "name": "python"
    }
  },
  "cells": [
    {
      "cell_type": "code",
      "execution_count": 3,
      "metadata": {
        "colab": {
          "base_uri": "https://localhost:8080/"
        },
        "id": "M0NVJf1ZmPGO",
        "outputId": "8ef02a5f-3407-45db-eb6d-4739caed95b0"
      },
      "outputs": [
        {
          "output_type": "stream",
          "name": "stdout",
          "text": [
            "商品の合計金額は480.0円です\n"
          ]
        }
      ],
      "source": [
        "def sum_price(price,tax):\n",
        "  total = price * (1+tax/100)\n",
        "  return total\n",
        "\n",
        "total_price=sum_price(400,20)\n",
        "print(f\"商品の合計金額は{total_price}円です\")\n"
      ]
    }
  ]
}