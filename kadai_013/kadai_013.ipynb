{
  "nbformat": 4,
  "nbformat_minor": 0,
  "metadata": {
    "colab": {
      "provenance": []
    },
    "kernelspec": {
      "name": "python3",
      "display_name": "Python 3"
    },
    "language_info": {
      "name": "python"
    }
  },
  "cells": [
    {
      "cell_type": "code",
      "execution_count": 7,
      "metadata": {
        "colab": {
          "base_uri": "https://localhost:8080/"
        },
        "id": "M0NVJf1ZmPGO",
        "outputId": "2d2381a9-47d9-4f4e-e108-ad7709afe143"
      },
      "outputs": [
        {
          "output_type": "stream",
          "name": "stdout",
          "text": [
            "商品の合計金額は480.0円です\n"
          ]
        }
      ],
      "source": [
        "def sum_price(price,tax):\n",
        "  total = price * (1+tax/100)\n",
        "  return print(f\"商品の合計金額は{total}円です\")\n",
        "\n",
        "sum_price(400,20)\n"
      ]
    }
  ]
}